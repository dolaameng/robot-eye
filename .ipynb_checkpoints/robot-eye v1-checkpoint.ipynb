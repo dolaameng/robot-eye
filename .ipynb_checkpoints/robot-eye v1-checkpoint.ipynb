{
 "metadata": {
  "name": "",
  "signature": "sha256:4767ba8b867b4dafb3ea4d5b6d62c8c3b0b0018303b0a62fd46996d50809e8fb"
 },
 "nbformat": 3,
 "nbformat_minor": 0,
 "worksheets": [
  {
   "cells": [
    {
     "cell_type": "code",
     "collapsed": false,
     "input": [
      "import requests\n",
      "import pyttsx\n",
      "import time\n",
      "import subprocess as sub\n",
      "from os import path\n",
      "import re\n",
      "from IPython import display"
     ],
     "language": "python",
     "metadata": {},
     "outputs": [],
     "prompt_number": 3
    },
    {
     "cell_type": "code",
     "collapsed": false,
     "input": [
      "camera_url = 'http://192.168.43.1:8080'\n",
      "sleep_seconds = 1\n",
      "snapshot_file = path.abspath('./snapshot.jpg')\n",
      "overfeat_bin = path.abspath('/home/ce/opt/overfeat/bin/linux_64/overfeat')\n",
      "command = '%s %s' % (overfeat_bin, snapshot_file)\n",
      "\n",
      "\n",
      "camera_shot = camera_url + '/shot.jpg'\n",
      "camera_focus = camera_url + '/focus'\n",
      "camera_nofocus= camera_url + '/nofocus'"
     ],
     "language": "python",
     "metadata": {},
     "outputs": [],
     "prompt_number": 14
    },
    {
     "cell_type": "raw",
     "metadata": {},
     "source": [
      "## DOESNOT WORK due to a bug on espeak at ubuntu\n",
      "e = pyttsx.init('espeak')\n",
      "e.startLoop()\n",
      "\n",
      "def say(sth):\n",
      "    e.say(sth)"
     ]
    },
    {
     "cell_type": "code",
     "collapsed": false,
     "input": [
      "def say(sth):\n",
      "    \"\"\"only works at ubuntu\"\"\"\n",
      "    sub.Popen(['espeak', sth])\n",
      "    time.sleep(len(sth.split(\" \"))*0.5) ## rough time estimate"
     ],
     "language": "python",
     "metadata": {},
     "outputs": [],
     "prompt_number": 15
    },
    {
     "cell_type": "code",
     "collapsed": false,
     "input": [
      "while True:\n",
      "    try:\n",
      "        if requests.get(camera_focus).status_code != 200:\n",
      "            break\n",
      "        r = requests.get(camera_shot)\n",
      "        open(snapshot_file, 'w').write(r.content)\n",
      "        p = sub.Popen([overfeat_bin, snapshot_file], stdout=sub.PIPE,stderr=sub.PIPE)\n",
      "        out, err = p.communicate()\n",
      "        print out\n",
      "        answer = out.split(\"\\n\")[0]\n",
      "        obj = re.findall(r\"(.*?)[\\d,]\", answer)[0]\n",
      "        prob = float(answer.split(\" \")[-1])\n",
      "        if prob >= 0.5:\n",
      "            say(\"I believe it is a %s\" % obj)\n",
      "        elif prob >= 0.1:\n",
      "            say(\"It is probably a %s?\" % obj)\n",
      "        else:\n",
      "            say(\"You got me! I don't know. But it looks like a %s\" % obj)\n",
      "        time.sleep(sleep_seconds)\n",
      "    except Exception, ex:\n",
      "        raise ex\n",
      "        break"
     ],
     "language": "python",
     "metadata": {},
     "outputs": [
      {
       "output_type": "stream",
       "stream": "stdout",
       "text": [
        "typewriter keyboard 0.425089\n",
        "computer keyboard, keypad 0.266959\n",
        "notebook, notebook computer 0.119756\n",
        "space bar 0.0535005\n",
        "abacus 0.0413556\n",
        "\n",
        "notebook, notebook computer 0.510687\n",
        "laptop, laptop computer 0.151287\n",
        "binder, ring-binder 0.0817591\n",
        "iPod 0.043777\n",
        "book jacket, dust cover, dust jacket, dust wrapper 0.0304254\n"
       ]
      },
      {
       "output_type": "stream",
       "stream": "stdout",
       "text": [
        "\n",
        "notebook, notebook computer 0.473112\n",
        "computer keyboard, keypad 0.209424\n",
        "space bar 0.127886\n",
        "laptop, laptop computer 0.104514\n",
        "typewriter keyboard 0.0337164\n"
       ]
      },
      {
       "output_type": "stream",
       "stream": "stdout",
       "text": [
        "\n",
        "typewriter keyboard 0.371149\n",
        "space bar 0.321018\n",
        "computer keyboard, keypad 0.305778\n",
        "notebook, notebook computer 0.000469794\n",
        "remote control, remote 0.000326347\n"
       ]
      },
      {
       "output_type": "stream",
       "stream": "stdout",
       "text": [
        "\n",
        "vending machine 0.195568\n",
        "slot, one-armed bandit 0.164722\n",
        "gas pump, gasoline pump, petrol pump, island dispenser 0.0923681\n",
        "television, television system 0.0665894\n",
        "notebook, notebook computer 0.0403891\n"
       ]
      },
      {
       "output_type": "stream",
       "stream": "stdout",
       "text": [
        "\n",
        "teapot 0.193564\n",
        "measuring cup 0.18205\n",
        "coffee mug 0.136366\n",
        "cup 0.0775345\n",
        "pitcher, ewer 0.0485887\n"
       ]
      },
      {
       "output_type": "stream",
       "stream": "stdout",
       "text": [
        "\n",
        "iPod 0.378593\n",
        "hard disc, hard disk, fixed disk 0.144931\n",
        "notebook, notebook computer 0.126665\n",
        "cellular telephone, cellular phone, cellphone, cell, mobile phone 0.104607\n",
        "modem 0.0596677\n"
       ]
      },
      {
       "output_type": "stream",
       "stream": "stdout",
       "text": [
        "\n",
        "mouse, computer mouse 0.541356\n",
        "cleaver, meat cleaver, chopper 0.0304738\n",
        "ballpoint, ballpoint pen, ballpen, Biro 0.0198628\n",
        "purse 0.0173982\n",
        "wallet, billfold, notecase, pocketbook 0.0142257\n"
       ]
      },
      {
       "output_type": "stream",
       "stream": "stdout",
       "text": [
        "\n",
        "Band Aid 0.137558\n",
        "pick, plectrum, plectron 0.103506\n",
        "matchstick 0.063267\n",
        "pill bottle 0.0584519\n",
        "piggy bank, penny bank 0.0425648\n"
       ]
      },
      {
       "output_type": "stream",
       "stream": "stdout",
       "text": [
        "\n",
        "joystick 0.16337\n",
        "hand-held computer, hand-held microcomputer 0.130599\n",
        "remote control, remote 0.0742955\n",
        "cellular telephone, cellular phone, cellphone, cell, mobile phone 0.0655521\n",
        "switch, electric switch, electrical switch 0.0547777\n"
       ]
      },
      {
       "output_type": "stream",
       "stream": "stdout",
       "text": [
        "\n",
        "stethoscope 0.107289\n",
        "vacuum, vacuum cleaner 0.0757027\n",
        "power drill 0.064803\n",
        "hand blower, blow dryer, blow drier, hair dryer, hair drier 0.0592243\n",
        "corkscrew, bottle screw 0.054859\n"
       ]
      },
      {
       "output_type": "stream",
       "stream": "stdout",
       "text": [
        "\n",
        "mouse, computer mouse 0.326865\n",
        "computer keyboard, keypad 0.124832\n",
        "notebook, notebook computer 0.08469\n",
        "pick, plectrum, plectron 0.0575177\n",
        "ballpoint, ballpoint pen, ballpen, Biro 0.0403697\n"
       ]
      },
      {
       "output_type": "stream",
       "stream": "stdout",
       "text": [
        "\n",
        "loupe, jeweler's loupe 0.287632\n",
        "cassette 0.109374\n",
        "stethoscope 0.101912\n",
        "stopwatch, stop watch 0.0993453\n",
        "revolver, six-gun, six-shooter 0.0431933\n"
       ]
      },
      {
       "output_type": "stream",
       "stream": "stdout",
       "text": [
        "\n",
        "mouse, computer mouse 0.123586\n",
        "binder, ring-binder 0.118087\n",
        "lens cap, lens cover 0.108085\n",
        "sunglass 0.0763012\n",
        "loupe, jeweler's loupe 0.0552796\n"
       ]
      },
      {
       "output_type": "stream",
       "stream": "stdout",
       "text": [
        "\n",
        "pool table, billiard table, snooker table 0.657668\n",
        "notebook, notebook computer 0.0986062\n",
        "laptop, laptop computer 0.0866238\n",
        "patio, terrace 0.0283472\n",
        "mouse, computer mouse 0.0190889\n"
       ]
      },
      {
       "output_type": "stream",
       "stream": "stdout",
       "text": [
        "\n",
        "Band Aid 0.0515744\n",
        "switch, electric switch, electrical switch 0.0482484\n",
        "ballpoint, ballpoint pen, ballpen, Biro 0.0343197\n",
        "tick 0.0299027\n",
        "wall clock 0.0270138\n"
       ]
      },
      {
       "output_type": "stream",
       "stream": "stdout",
       "text": [
        "\n"
       ]
      },
      {
       "ename": "ConnectionError",
       "evalue": "HTTPConnectionPool(host='192.168.43.1', port=8080): Max retries exceeded with url: /focus (Caused by <class 'socket.error'>: [Errno 111] Connection refused)",
       "output_type": "pyerr",
       "traceback": [
        "\u001b[1;31m---------------------------------------------------------------------------\u001b[0m\n\u001b[1;31mConnectionError\u001b[0m                           Traceback (most recent call last)",
        "\u001b[1;32m<ipython-input-19-118091c04921>\u001b[0m in \u001b[0;36m<module>\u001b[1;34m()\u001b[0m\n\u001b[0;32m     19\u001b[0m         \u001b[0mtime\u001b[0m\u001b[1;33m.\u001b[0m\u001b[0msleep\u001b[0m\u001b[1;33m(\u001b[0m\u001b[0msleep_seconds\u001b[0m\u001b[1;33m)\u001b[0m\u001b[1;33m\u001b[0m\u001b[0m\n\u001b[0;32m     20\u001b[0m     \u001b[1;32mexcept\u001b[0m \u001b[0mException\u001b[0m\u001b[1;33m,\u001b[0m \u001b[0mex\u001b[0m\u001b[1;33m:\u001b[0m\u001b[1;33m\u001b[0m\u001b[0m\n\u001b[1;32m---> 21\u001b[1;33m         \u001b[1;32mraise\u001b[0m \u001b[0mex\u001b[0m\u001b[1;33m\u001b[0m\u001b[0m\n\u001b[0m\u001b[0;32m     22\u001b[0m         \u001b[1;32mbreak\u001b[0m\u001b[1;33m\u001b[0m\u001b[0m\n",
        "\u001b[1;31mConnectionError\u001b[0m: HTTPConnectionPool(host='192.168.43.1', port=8080): Max retries exceeded with url: /focus (Caused by <class 'socket.error'>: [Errno 111] Connection refused)"
       ]
      }
     ],
     "prompt_number": 19
    },
    {
     "cell_type": "code",
     "collapsed": false,
     "input": [
      "for i in xrange(5):\n",
      "    display.HTML(\"hello world %i\" % i)"
     ],
     "language": "python",
     "metadata": {},
     "outputs": [],
     "prompt_number": 18
    },
    {
     "cell_type": "code",
     "collapsed": false,
     "input": [],
     "language": "python",
     "metadata": {},
     "outputs": [],
     "prompt_number": 18
    },
    {
     "cell_type": "code",
     "collapsed": false,
     "input": [],
     "language": "python",
     "metadata": {},
     "outputs": []
    }
   ],
   "metadata": {}
  }
 ]
}