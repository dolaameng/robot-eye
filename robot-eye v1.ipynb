{
 "metadata": {
  "name": "",
  "signature": "sha256:109d4345f0e7e03d60d58a6aede71c42283166fa5dd12a62f2148fea78830549"
 },
 "nbformat": 3,
 "nbformat_minor": 0,
 "worksheets": [
  {
   "cells": [
    {
     "cell_type": "code",
     "collapsed": false,
     "input": [
      "import requests\n",
      "import pyttsx\n",
      "import time\n",
      "import subprocess as sub\n",
      "from os import path\n",
      "import re"
     ],
     "language": "python",
     "metadata": {},
     "outputs": [],
     "prompt_number": 31
    },
    {
     "cell_type": "code",
     "collapsed": false,
     "input": [
      "camera_url = 'http://192.168.0.116:8080'\n",
      "sleep_seconds = 1\n",
      "snapshot_file = path.abspath('./snapshot.jpg')\n",
      "overfeat_bin = path.abspath('/home/dola/opt/overfeat/bin/linux_64/overfeat')\n",
      "command = '%s %s' % (overfeat_bin, snapshot_file)\n",
      "\n",
      "\n",
      "camera_shot = camera_url + '/shot.jpg'\n",
      "camera_focus = camera_url + '/focus'\n",
      "camera_nofocus= camera_url + '/nofocus'"
     ],
     "language": "python",
     "metadata": {},
     "outputs": [],
     "prompt_number": 7
    },
    {
     "cell_type": "raw",
     "metadata": {},
     "source": [
      "## DOESNOT WORK due to a bug on espeak at ubuntu\n",
      "e = pyttsx.init('espeak')\n",
      "e.startLoop()\n",
      "\n",
      "def say(sth):\n",
      "    e.say(sth)"
     ]
    },
    {
     "cell_type": "code",
     "collapsed": false,
     "input": [
      "def say(sth):\n",
      "    \"\"\"only works at ubuntu\"\"\"\n",
      "    sub.Popen(['espeak', sth])\n",
      "    time.sleep(len(sth.split(\" \"))*0.5) ## rough time estimate"
     ],
     "language": "python",
     "metadata": {},
     "outputs": [],
     "prompt_number": 32
    },
    {
     "cell_type": "code",
     "collapsed": false,
     "input": [
      "while True:\n",
      "    try:\n",
      "        if requests.get(camera_focus).status_code != 200:\n",
      "            break\n",
      "        r = requests.get(camera_shot)\n",
      "        open(snapshot_file, 'w').write(r.content)\n",
      "        p = sub.Popen([overfeat_bin, snapshot_file], stdout=sub.PIPE,stderr=sub.PIPE)\n",
      "        out, err = p.communicate()\n",
      "        print out\n",
      "        answer = out.split(\"\\n\")[0]\n",
      "        obj = re.findall(r\"(.*?)[\\d,]\", answer)[0]\n",
      "        prob = float(answer.split(\" \")[-1])\n",
      "        if prob >= 0.5:\n",
      "            say(\"I believe it is a %s\" % obj)\n",
      "        elif prob >= 0.1:\n",
      "            say(\"It is probably a %s?\" % obj)\n",
      "        else:\n",
      "            say(\"You got me! I don't know. But it looks like a %s\" % obj)\n",
      "        time.sleep(sleep_seconds)\n",
      "    except:\n",
      "        break"
     ],
     "language": "python",
     "metadata": {},
     "outputs": [
      {
       "output_type": "stream",
       "stream": "stdout",
       "text": [
        "remote control, remote 0.0646636\n",
        "computer keyboard, keypad 0.0533199\n",
        "modem 0.0497546\n",
        "digital clock 0.0464385\n",
        "mouse, computer mouse 0.0345183\n",
        "\n",
        "crane 0.247622\n",
        "American egret, great white heron, Egretta albus 0.196984\n",
        "white wolf, Arctic wolf, Canis lupus tundrarum 0.117748\n",
        "borzoi, Russian wolfhound 0.0747316\n",
        "Saluki, gazelle hound 0.056884\n"
       ]
      },
      {
       "output_type": "stream",
       "stream": "stdout",
       "text": [
        "\n",
        "matchstick 0.078593\n",
        "digital clock 0.0770523\n",
        "red wine 0.0587705\n",
        "syringe 0.0463654\n",
        "spotlight, spot 0.0404729\n"
       ]
      },
      {
       "output_type": "stream",
       "stream": "stdout",
       "text": [
        "\n",
        "curly-coated retriever 0.413233\n",
        "Chesapeake Bay retriever 0.131384\n",
        "kelpie 0.0585739\n",
        "bighorn, bighorn sheep, cimarron, Rocky Mountain bighorn, Rocky Mountain sheep, Ovis canadensis 0.0513962\n",
        "flat-coated retriever 0.0421465\n"
       ]
      },
      {
       "output_type": "stream",
       "stream": "stdout",
       "text": [
        "\n",
        "golden retriever 0.379445\n",
        "Labrador retriever 0.092654\n",
        "kuvasz 0.0385986\n",
        "chow, chow chow 0.0266371\n",
        "Great Pyrenees 0.025521\n"
       ]
      },
      {
       "output_type": "stream",
       "stream": "stdout",
       "text": [
        "\n",
        "computer keyboard, keypad 0.549952\n",
        "typewriter keyboard 0.101865\n",
        "notebook, notebook computer 0.0724178\n",
        "cinema, movie theater, movie theatre, movie house, picture palace 0.0654939\n",
        "menu 0.033671\n"
       ]
      },
      {
       "output_type": "stream",
       "stream": "stdout",
       "text": [
        "\n",
        "freight car 0.433672\n",
        "desktop computer 0.0819863\n",
        "television, television system 0.0773669\n",
        "oscilloscope, scope, cathode-ray oscilloscope, CRO 0.0615765\n",
        "cellular telephone, cellular phone, cellphone, cell, mobile phone 0.0604059\n"
       ]
      },
      {
       "output_type": "stream",
       "stream": "stdout",
       "text": [
        "\n",
        "tiger, Panthera tigris 0.790442\n",
        "tiger cat 0.192052\n",
        "jaguar, panther, Panthera onca, Felis onca 0.0167211\n",
        "leopard, Panthera pardus 0.0006245\n",
        "snow leopard, ounce, Panthera uncia 8.28172e-05\n"
       ]
      },
      {
       "output_type": "stream",
       "stream": "stdout",
       "text": [
        "\n",
        "hand-held computer, hand-held microcomputer 0.278521\n",
        "remote control, remote 0.177405\n",
        "screen, CRT screen 0.0753347\n",
        "cellular telephone, cellular phone, cellphone, cell, mobile phone 0.0577826\n",
        "desktop computer 0.0552384\n"
       ]
      },
      {
       "output_type": "stream",
       "stream": "stdout",
       "text": [
        "\n",
        "green snake, grass snake 0.797991\n",
        "green mamba 0.109911\n",
        "American chameleon, anole, Anolis carolinensis 0.0289497\n",
        "green lizard, Lacerta viridis 0.0203752\n",
        "vine snake 0.0194987\n"
       ]
      },
      {
       "output_type": "stream",
       "stream": "stdout",
       "text": [
        "\n",
        "computer keyboard, keypad 0.374266\n",
        "notebook, notebook computer 0.171639\n",
        "cellular telephone, cellular phone, cellphone, cell, mobile phone 0.132912\n",
        "hand-held computer, hand-held microcomputer 0.0974294\n",
        "laptop, laptop computer 0.0340261\n"
       ]
      },
      {
       "output_type": "stream",
       "stream": "stdout",
       "text": [
        "\n",
        "tiger cat 0.266535\n",
        "tabby, tabby cat 0.16042\n",
        "lynx, catamount 0.107874\n",
        "Egyptian cat 0.0919276\n",
        "Persian cat 0.0786436\n"
       ]
      },
      {
       "output_type": "stream",
       "stream": "stdout",
       "text": [
        "\n",
        "lynx, catamount 0.229014\n",
        "hare 0.132733\n",
        "tiger cat 0.128802\n",
        "Egyptian cat 0.116901\n",
        "tabby, tabby cat 0.0707373\n"
       ]
      },
      {
       "output_type": "stream",
       "stream": "stdout",
       "text": [
        "\n",
        "computer keyboard, keypad 0.493744\n",
        "notebook, notebook computer 0.292012\n",
        "space bar 0.1427\n",
        "laptop, laptop computer 0.042693\n",
        "typewriter keyboard 0.0133516\n"
       ]
      },
      {
       "output_type": "stream",
       "stream": "stdout",
       "text": [
        "\n",
        "monitor 0.290374\n",
        "screen, CRT screen 0.103102\n",
        "desktop computer 0.096242\n",
        "oscilloscope, scope, cathode-ray oscilloscope, CRO 0.0731966\n",
        "freight car 0.0550287\n"
       ]
      },
      {
       "output_type": "stream",
       "stream": "stdout",
       "text": [
        "\n",
        "pinwheel 0.457843\n",
        "sea slug, nudibranch 0.144706\n",
        "bubble 0.0327705\n",
        "goldfish, Carassius auratus 0.0196707\n",
        "steel drum 0.019369\n"
       ]
      },
      {
       "output_type": "stream",
       "stream": "stdout",
       "text": [
        "\n",
        "pinwheel 0.609441\n",
        "sea slug, nudibranch 0.0572685\n",
        "goldfish, Carassius auratus 0.0439913\n",
        "tricycle, trike, velocipede 0.0223282\n",
        "coral reef 0.0164093\n"
       ]
      },
      {
       "output_type": "stream",
       "stream": "stdout",
       "text": [
        "\n"
       ]
      }
     ],
     "prompt_number": 46
    },
    {
     "cell_type": "code",
     "collapsed": false,
     "input": [],
     "language": "python",
     "metadata": {},
     "outputs": []
    }
   ],
   "metadata": {}
  }
 ]
}